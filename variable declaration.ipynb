{
 "cells": [
  {
   "cell_type": "markdown",
   "id": "0b4b8101",
   "metadata": {},
   "source": [
    "# numeric "
   ]
  },
  {
   "cell_type": "code",
   "execution_count": 1,
   "id": "8458878a",
   "metadata": {},
   "outputs": [
    {
     "data": {
      "text/plain": [
       "int"
      ]
     },
     "execution_count": 1,
     "metadata": {},
     "output_type": "execute_result"
    }
   ],
   "source": [
    "num=(1)\n",
    "type(num)"
   ]
  },
  {
   "cell_type": "code",
   "execution_count": 2,
   "id": "0e917d96",
   "metadata": {},
   "outputs": [
    {
     "data": {
      "text/plain": [
       "float"
      ]
     },
     "execution_count": 2,
     "metadata": {},
     "output_type": "execute_result"
    }
   ],
   "source": [
    "floating=(1.9)\n",
    "type(floating)"
   ]
  },
  {
   "cell_type": "markdown",
   "id": "20d272ab",
   "metadata": {},
   "source": [
    "# declaring variable"
   ]
  },
  {
   "cell_type": "code",
   "execution_count": 3,
   "id": "d19a371b",
   "metadata": {
    "scrolled": false
   },
   "outputs": [
    {
     "name": "stdout",
     "output_type": "stream",
     "text": [
      "100\n"
     ]
    }
   ],
   "source": [
    "sri=100\n",
    "print(sri)"
   ]
  },
  {
   "cell_type": "code",
   "execution_count": 4,
   "id": "f9c8a699",
   "metadata": {},
   "outputs": [],
   "source": [
    "ai=(\"machine learning\" ,\"deep learning\",\"neural networks\")"
   ]
  },
  {
   "cell_type": "code",
   "execution_count": 5,
   "id": "fc25d428",
   "metadata": {},
   "outputs": [
    {
     "data": {
      "text/plain": [
       "('machine learning', 'deep learning', 'neural networks')"
      ]
     },
     "execution_count": 5,
     "metadata": {},
     "output_type": "execute_result"
    }
   ],
   "source": [
    "ai"
   ]
  },
  {
   "cell_type": "code",
   "execution_count": 6,
   "id": "b3af562d",
   "metadata": {},
   "outputs": [],
   "source": [
    "foundation_ai=(11,12,13,14,15)\n",
    "foundation_ai2=(21,22,23,24,25)\n",
    "foundation_ai3=(31,32,33,34,35)"
   ]
  },
  {
   "cell_type": "code",
   "execution_count": 7,
   "id": "f20533df",
   "metadata": {},
   "outputs": [
    {
     "data": {
      "text/plain": [
       "(11, 12, 13, 14, 15)"
      ]
     },
     "execution_count": 7,
     "metadata": {},
     "output_type": "execute_result"
    }
   ],
   "source": [
    "foundation_ai"
   ]
  },
  {
   "cell_type": "markdown",
   "id": "38cc2d5f",
   "metadata": {},
   "source": [
    "# get input from usera as integer value using int"
   ]
  },
  {
   "cell_type": "code",
   "execution_count": 9,
   "id": "807b6f5f",
   "metadata": {},
   "outputs": [
    {
     "name": "stdout",
     "output_type": "stream",
     "text": [
      "enter ur contact number8610843312\n"
     ]
    }
   ],
   "source": [
    "details=int(input(\"enter ur contact number\"))"
   ]
  },
  {
   "cell_type": "markdown",
   "id": "44524bce",
   "metadata": {},
   "source": [
    "# creating two list"
   ]
  },
  {
   "cell_type": "code",
   "execution_count": 10,
   "id": "d57ebc44",
   "metadata": {
    "scrolled": false
   },
   "outputs": [
    {
     "data": {
      "text/plain": [
       "list"
      ]
     },
     "execution_count": 10,
     "metadata": {},
     "output_type": "execute_result"
    }
   ],
   "source": [
    "list1=[12,1.0,\"sri\"]\n",
    "list2=[123,\"atlee\"]\n",
    "type (list1)"
   ]
  },
  {
   "cell_type": "markdown",
   "id": "d606feee",
   "metadata": {},
   "source": [
    "# operations of list"
   ]
  },
  {
   "cell_type": "code",
   "execution_count": 11,
   "id": "6801a9b5",
   "metadata": {
    "scrolled": true
   },
   "outputs": [
    {
     "name": "stdout",
     "output_type": "stream",
     "text": [
      "[12, 1.0, 'sri', 123, 'atlee']\n"
     ]
    }
   ],
   "source": [
    "list1.extend(list2)\n",
    "print(list1)\n"
   ]
  },
  {
   "cell_type": "code",
   "execution_count": 12,
   "id": "b04d6eb9",
   "metadata": {
    "scrolled": true
   },
   "outputs": [
    {
     "name": "stdout",
     "output_type": "stream",
     "text": [
      "[12, 1.0, 'sri', 123, 'atlee', 'ranjani']\n"
     ]
    }
   ],
   "source": [
    "list1.append(\"ranjani\")\n",
    "print(list1)"
   ]
  },
  {
   "cell_type": "code",
   "execution_count": 13,
   "id": "1ae04377",
   "metadata": {},
   "outputs": [
    {
     "name": "stdout",
     "output_type": "stream",
     "text": [
      "[1.0, 'sri', 123, 'atlee', 'ranjani']\n"
     ]
    }
   ],
   "source": [
    "list1.remove(12)\n",
    "print(list1)"
   ]
  },
  {
   "cell_type": "code",
   "execution_count": 14,
   "id": "c53b42af",
   "metadata": {
    "scrolled": false
   },
   "outputs": [
    {
     "data": {
      "text/plain": [
       "[1.0, 123, 'ranjani']"
      ]
     },
     "execution_count": 14,
     "metadata": {},
     "output_type": "execute_result"
    }
   ],
   "source": [
    "list1[::2]"
   ]
  },
  {
   "cell_type": "code",
   "execution_count": 15,
   "id": "fff34d9f",
   "metadata": {},
   "outputs": [
    {
     "name": "stdout",
     "output_type": "stream",
     "text": [
      "[1.0, 'sri', 123, 'atlee', 'ranjani', 123, 'atlee']\n"
     ]
    }
   ],
   "source": [
    "a=list1+list2\n",
    "print(a)"
   ]
  },
  {
   "cell_type": "markdown",
   "id": "c19b2143",
   "metadata": {},
   "source": [
    "# creating tuple"
   ]
  },
  {
   "cell_type": "code",
   "execution_count": 16,
   "id": "bea26bb5",
   "metadata": {},
   "outputs": [
    {
     "data": {
      "text/plain": [
       "tuple"
      ]
     },
     "execution_count": 16,
     "metadata": {},
     "output_type": "execute_result"
    }
   ],
   "source": [
    "tuple1=(\"sri\",\"ranjani\",9)\n",
    "type(tuple1)"
   ]
  },
  {
   "cell_type": "code",
   "execution_count": 17,
   "id": "c5f32c5e",
   "metadata": {
    "scrolled": false
   },
   "outputs": [
    {
     "ename": "AttributeError",
     "evalue": "'tuple' object has no attribute 'append'",
     "output_type": "error",
     "traceback": [
      "\u001b[1;31m---------------------------------------------------------------------------\u001b[0m",
      "\u001b[1;31mAttributeError\u001b[0m                            Traceback (most recent call last)",
      "Cell \u001b[1;32mIn[17], line 1\u001b[0m\n\u001b[1;32m----> 1\u001b[0m \u001b[43mtuple1\u001b[49m\u001b[38;5;241;43m.\u001b[39;49m\u001b[43mappend\u001b[49m(\u001b[38;5;124m\"\u001b[39m\u001b[38;5;124mraji\u001b[39m\u001b[38;5;124m\"\u001b[39m)\n",
      "\u001b[1;31mAttributeError\u001b[0m: 'tuple' object has no attribute 'append'"
     ]
    }
   ],
   "source": [
    "tuple1.append(\"raji\")"
   ]
  },
  {
   "cell_type": "code",
   "execution_count": 18,
   "id": "848cee2f",
   "metadata": {},
   "outputs": [
    {
     "data": {
      "text/plain": [
       "1"
      ]
     },
     "execution_count": 18,
     "metadata": {},
     "output_type": "execute_result"
    }
   ],
   "source": [
    "tuple1.count(\"ranjani\")"
   ]
  },
  {
   "cell_type": "code",
   "execution_count": 19,
   "id": "98b09f34",
   "metadata": {},
   "outputs": [
    {
     "data": {
      "text/plain": [
       "('sri', 'ranjani')"
      ]
     },
     "execution_count": 19,
     "metadata": {},
     "output_type": "execute_result"
    }
   ],
   "source": [
    "tuple1[0:2]"
   ]
  },
  {
   "cell_type": "markdown",
   "id": "c9e1023d",
   "metadata": {},
   "source": [
    "# creating set"
   ]
  },
  {
   "cell_type": "code",
   "execution_count": 20,
   "id": "8a695257",
   "metadata": {
    "scrolled": false
   },
   "outputs": [
    {
     "data": {
      "text/plain": [
       "set"
      ]
     },
     "execution_count": 20,
     "metadata": {},
     "output_type": "execute_result"
    }
   ],
   "source": [
    "set1={\"sri\",\"ranjani\",9,9}\n",
    "type(set1)"
   ]
  },
  {
   "cell_type": "code",
   "execution_count": 21,
   "id": "b2c99f3d",
   "metadata": {
    "scrolled": true
   },
   "outputs": [
    {
     "name": "stdout",
     "output_type": "stream",
     "text": [
      "{'sri', 'ranjani', 9, 22}\n",
      "{'twenty', 'rathika', 22, 'senthil'}\n"
     ]
    }
   ],
   "source": [
    "set1={\"sri\",\"ranjani\",9,9,22}\n",
    "set2={\"rathika\",\"senthil\",22,22,\"twenty\"}\n",
    "print(set1)\n",
    "print(set2)"
   ]
  },
  {
   "cell_type": "code",
   "execution_count": 22,
   "id": "4571a0d4",
   "metadata": {
    "scrolled": false
   },
   "outputs": [
    {
     "name": "stdout",
     "output_type": "stream",
     "text": [
      "{'sri', 'ranjani', 9, 22}\n"
     ]
    }
   ],
   "source": [
    "set1.add(\"sri\")\n",
    "print(set1)"
   ]
  },
  {
   "cell_type": "code",
   "execution_count": 23,
   "id": "77387fcf",
   "metadata": {
    "scrolled": true
   },
   "outputs": [],
   "source": [
    "set2.update(\"ammu\")"
   ]
  },
  {
   "cell_type": "code",
   "execution_count": 24,
   "id": "d2ca3e07",
   "metadata": {},
   "outputs": [
    {
     "data": {
      "text/plain": [
       "'sri'"
      ]
     },
     "execution_count": 24,
     "metadata": {},
     "output_type": "execute_result"
    }
   ],
   "source": [
    "set1.pop()"
   ]
  },
  {
   "cell_type": "code",
   "execution_count": 25,
   "id": "27e18a27",
   "metadata": {
    "scrolled": true
   },
   "outputs": [
    {
     "name": "stdout",
     "output_type": "stream",
     "text": [
      "{'ranjani', 9, 22}\n",
      "{'rathika', 'senthil', 'u', 'twenty', 22, 'a', 'm'}\n"
     ]
    }
   ],
   "source": [
    "print(set1)\n",
    "print(set2)"
   ]
  },
  {
   "cell_type": "code",
   "execution_count": 26,
   "id": "003ac219",
   "metadata": {},
   "outputs": [
    {
     "data": {
      "text/plain": [
       "{22, 9, 'a', 'm', 'ranjani', 'rathika', 'senthil', 'twenty', 'u'}"
      ]
     },
     "execution_count": 26,
     "metadata": {},
     "output_type": "execute_result"
    }
   ],
   "source": [
    "set1|set2"
   ]
  },
  {
   "cell_type": "code",
   "execution_count": 27,
   "id": "a0b8026f",
   "metadata": {},
   "outputs": [
    {
     "data": {
      "text/plain": [
       "{22}"
      ]
     },
     "execution_count": 27,
     "metadata": {},
     "output_type": "execute_result"
    }
   ],
   "source": [
    "set1&set2"
   ]
  },
  {
   "cell_type": "code",
   "execution_count": 28,
   "id": "c7d165a4",
   "metadata": {
    "scrolled": true
   },
   "outputs": [
    {
     "data": {
      "text/plain": [
       "{9, 'ranjani'}"
      ]
     },
     "execution_count": 28,
     "metadata": {},
     "output_type": "execute_result"
    }
   ],
   "source": [
    "set1-set2"
   ]
  },
  {
   "cell_type": "markdown",
   "id": "657cb9e3",
   "metadata": {},
   "source": [
    "# creating dictionaries"
   ]
  },
  {
   "cell_type": "code",
   "execution_count": 29,
   "id": "0443923f",
   "metadata": {},
   "outputs": [
    {
     "data": {
      "text/plain": [
       "dict"
      ]
     },
     "execution_count": 29,
     "metadata": {},
     "output_type": "execute_result"
    }
   ],
   "source": [
    "dict1=({1:\"sri\",2:\"ranjani\"})\n",
    "dict2=({3:\"raj\",4:\"sen\"})\n",
    "type(dict1)"
   ]
  },
  {
   "cell_type": "code",
   "execution_count": 30,
   "id": "767680cb",
   "metadata": {},
   "outputs": [
    {
     "data": {
      "text/plain": [
       "2"
      ]
     },
     "execution_count": 30,
     "metadata": {},
     "output_type": "execute_result"
    }
   ],
   "source": [
    "len(dict1)"
   ]
  },
  {
   "cell_type": "code",
   "execution_count": 31,
   "id": "a22f32c6",
   "metadata": {},
   "outputs": [],
   "source": [
    " dict1[0]=\"srii\""
   ]
  },
  {
   "cell_type": "code",
   "execution_count": 32,
   "id": "4ea5f561",
   "metadata": {},
   "outputs": [
    {
     "data": {
      "text/plain": [
       "{1: 'sri', 2: 'ranjani', 0: 'srii'}"
      ]
     },
     "execution_count": 32,
     "metadata": {},
     "output_type": "execute_result"
    }
   ],
   "source": [
    "dict1"
   ]
  },
  {
   "cell_type": "code",
   "execution_count": 33,
   "id": "e10a0daf",
   "metadata": {},
   "outputs": [
    {
     "data": {
      "text/plain": [
       "dict_items([(1, 'sri'), (2, 'ranjani'), (0, 'srii')])"
      ]
     },
     "execution_count": 33,
     "metadata": {},
     "output_type": "execute_result"
    }
   ],
   "source": [
    " dict1.items()"
   ]
  },
  {
   "cell_type": "code",
   "execution_count": 34,
   "id": "3740a0df",
   "metadata": {},
   "outputs": [
    {
     "data": {
      "text/plain": [
       "dict_keys([1, 2, 0])"
      ]
     },
     "execution_count": 34,
     "metadata": {},
     "output_type": "execute_result"
    }
   ],
   "source": [
    "dict1.keys()"
   ]
  },
  {
   "cell_type": "code",
   "execution_count": 35,
   "id": "fb2432bd",
   "metadata": {},
   "outputs": [
    {
     "data": {
      "text/plain": [
       "dict_values(['sri', 'ranjani', 'srii'])"
      ]
     },
     "execution_count": 35,
     "metadata": {},
     "output_type": "execute_result"
    }
   ],
   "source": [
    "dict1.values()"
   ]
  },
  {
   "cell_type": "code",
   "execution_count": 36,
   "id": "4f4c9848",
   "metadata": {},
   "outputs": [
    {
     "data": {
      "text/plain": [
       "{1: 'sri', 2: 'ranjani', 0: 'srii', 3: 'viva'}"
      ]
     },
     "execution_count": 36,
     "metadata": {},
     "output_type": "execute_result"
    }
   ],
   "source": [
    "dict1[3]=\"viva\"\n",
    "dict1"
   ]
  },
  {
   "cell_type": "code",
   "execution_count": 37,
   "id": "eefa3dfa",
   "metadata": {},
   "outputs": [
    {
     "data": {
      "text/plain": [
       "'ranjani'"
      ]
     },
     "execution_count": 37,
     "metadata": {},
     "output_type": "execute_result"
    }
   ],
   "source": [
    "dict1.pop(2)"
   ]
  },
  {
   "cell_type": "code",
   "execution_count": 38,
   "id": "ee52a617",
   "metadata": {},
   "outputs": [],
   "source": [
    "dict2.clear()"
   ]
  },
  {
   "cell_type": "code",
   "execution_count": 39,
   "id": "035af598",
   "metadata": {},
   "outputs": [
    {
     "data": {
      "text/plain": [
       "{}"
      ]
     },
     "execution_count": 39,
     "metadata": {},
     "output_type": "execute_result"
    }
   ],
   "source": [
    "dict2"
   ]
  },
  {
   "cell_type": "markdown",
   "id": "949ef9c0",
   "metadata": {},
   "source": [
    "# conditional statement"
   ]
  },
  {
   "cell_type": "code",
   "execution_count": 40,
   "id": "2aed223e",
   "metadata": {},
   "outputs": [
    {
     "name": "stdout",
     "output_type": "stream",
     "text": [
      "enter number:4\n",
      "enter number2:5\n"
     ]
    }
   ],
   "source": [
    "s=int(input(\"enter number:\"))\n",
    "r=int(input(\"enter number2:\"))\n",
    "\n",
    "  "
   ]
  },
  {
   "cell_type": "markdown",
   "id": "9d12086d",
   "metadata": {},
   "source": [
    "# activity 1"
   ]
  },
  {
   "cell_type": "code",
   "execution_count": 41,
   "id": "4740bb30",
   "metadata": {},
   "outputs": [
    {
     "name": "stdout",
     "output_type": "stream",
     "text": [
      "is4 is not divisible by 5\n"
     ]
    }
   ],
   "source": [
    "if s%r==0:\n",
    "    print(f\"is{s} divisble by {r}\")\n",
    "else:\n",
    "    print(f\"is{s} is not divisible by {r}\" )"
   ]
  },
  {
   "cell_type": "markdown",
   "id": "2a1763f0",
   "metadata": {},
   "source": [
    "# activity 2"
   ]
  },
  {
   "cell_type": "code",
   "execution_count": 42,
   "id": "1629e925",
   "metadata": {
    "scrolled": true
   },
   "outputs": [
    {
     "name": "stdout",
     "output_type": "stream",
     "text": [
      "the number 4 is divisible by 2\n"
     ]
    }
   ],
   "source": [
    "if int(s)%2==0:\n",
    "    print(f\"the number {s} is divisible by 2\")\n",
    "else:\n",
    "    print(f\"{s} is not divisible by 2\")"
   ]
  },
  {
   "cell_type": "markdown",
   "id": "adad0ede",
   "metadata": {},
   "source": [
    "# activity 3"
   ]
  },
  {
   "cell_type": "code",
   "execution_count": 43,
   "id": "b3d938f0",
   "metadata": {},
   "outputs": [
    {
     "name": "stdout",
     "output_type": "stream",
     "text": [
      "the number 4 is even number\n"
     ]
    }
   ],
   "source": [
    "if int(s)%2==0:\n",
    "    print(f\"the number {s} is even number\")\n",
    "else:\n",
    "    print(f\"{s} is odd number \")"
   ]
  },
  {
   "cell_type": "code",
   "execution_count": 46,
   "id": "e976c541",
   "metadata": {},
   "outputs": [
    {
     "name": "stdout",
     "output_type": "stream",
     "text": [
      "enter number:9\n"
     ]
    }
   ],
   "source": [
    "num1=int(input(\"enter number:\"))\n"
   ]
  },
  {
   "cell_type": "code",
   "execution_count": 48,
   "id": "5247a893",
   "metadata": {},
   "outputs": [
    {
     "name": "stdout",
     "output_type": "stream",
     "text": [
      "the given number 9 is positive integer\n"
     ]
    }
   ],
   "source": [
    "if num1>0:\n",
    "    print(f\"the given number {num1} is positive integer\")\n",
    "elif num1==0:\n",
    "    print(f\"the given number {num1} is neutral\")\n",
    "else :\n",
    "    print(f\"the given number {num1} is negative integer\")\n",
    "   "
   ]
  },
  {
   "cell_type": "markdown",
   "id": "4001adaf",
   "metadata": {},
   "source": [
    "# loop"
   ]
  },
  {
   "cell_type": "code",
   "execution_count": 49,
   "id": "c90ccf0b",
   "metadata": {},
   "outputs": [],
   "source": [
    "number1=(12,34,56,78,90)\n"
   ]
  },
  {
   "cell_type": "code",
   "execution_count": 50,
   "id": "ddef7843",
   "metadata": {},
   "outputs": [],
   "source": [
    "number2=(\"sri\",\"ranjani\",\"senthil\",\"murugan\")"
   ]
  },
  {
   "cell_type": "markdown",
   "id": "967eb8c6",
   "metadata": {},
   "source": [
    "# for loop"
   ]
  },
  {
   "cell_type": "code",
   "execution_count": 63,
   "id": "c73d1787",
   "metadata": {
    "scrolled": false
   },
   "outputs": [
    {
     "name": "stdout",
     "output_type": "stream",
     "text": [
      "12\n",
      "34\n",
      "56\n",
      "78\n",
      "90\n"
     ]
    }
   ],
   "source": [
    "for z in number1:\n",
    "    print(z)"
   ]
  },
  {
   "cell_type": "code",
   "execution_count": 71,
   "id": "2e38cc44",
   "metadata": {},
   "outputs": [],
   "source": [
    "name1=[2,4,6,8]\n",
    "nmae2=[56,67,88,44,77]"
   ]
  },
  {
   "cell_type": "code",
   "execution_count": 85,
   "id": "84a16539",
   "metadata": {},
   "outputs": [
    {
     "name": "stdout",
     "output_type": "stream",
     "text": [
      "the number2 is even number\n",
      "the number4 is even number\n",
      "the number6 is even number\n",
      "the number8 is even number\n"
     ]
    }
   ],
   "source": [
    "for i in name1:\n",
    "    if i%2 == 0:\n",
    "        print(f\"the number{i} is even number\")\n",
    "    else:\n",
    "        print(f\"the number{i} is odd number\" )"
   ]
  },
  {
   "cell_type": "markdown",
   "id": "1d7a12e8",
   "metadata": {},
   "source": [
    "# while loop"
   ]
  },
  {
   "cell_type": "code",
   "execution_count": 91,
   "id": "3425364e",
   "metadata": {},
   "outputs": [
    {
     "name": "stdout",
     "output_type": "stream",
     "text": [
      "enter a number5\n",
      "the sum of the0\n",
      "the sum of the1\n",
      "the sum of the3\n",
      "the sum of the6\n",
      "the sum of the10\n",
      "the sum of the15\n"
     ]
    }
   ],
   "source": [
    "s=input(\"enter a number\")\n",
    "val=0\n",
    "i=0\n",
    "\n",
    "while i<=int(s):\n",
    "    val += i\n",
    "    i += 1\n",
    "    print(f\"the sum of the{val}\")"
   ]
  },
  {
   "cell_type": "code",
   "execution_count": 93,
   "id": "03b2cf9e",
   "metadata": {},
   "outputs": [
    {
     "name": "stdout",
     "output_type": "stream",
     "text": [
      "the inside loop\n",
      "the inside loop\n",
      "the inside loop\n",
      "the inside loop\n",
      "the inside loop\n",
      "the inside loop\n",
      "the inside loop\n",
      "the inside loop\n",
      "the inside loop\n",
      "the inside loop\n",
      "the inside loop\n",
      "the inside loop\n",
      "the inside loop\n",
      "the inside loop\n",
      "the inside loop\n",
      "the outside the loop\n"
     ]
    }
   ],
   "source": [
    "counter=0\n",
    "\n",
    "while counter < 15:\n",
    "    print(\"the inside loop\")\n",
    "    counter = counter + 1\n",
    "else:\n",
    "    print(\"the outside the loop\")"
   ]
  },
  {
   "cell_type": "code",
   "execution_count": 95,
   "id": "67d841a1",
   "metadata": {},
   "outputs": [
    {
     "name": "stdout",
     "output_type": "stream",
     "text": [
      "s\n",
      "r\n",
      "i\n",
      "r\n",
      "iteration is over\n"
     ]
    }
   ],
   "source": [
    "for val in \"sriranjani\":\n",
    "    if val  == \"a\":\n",
    "        break \n",
    "    print(val)\n",
    "    \n",
    "print(\"iteration is over\")"
   ]
  },
  {
   "cell_type": "markdown",
   "id": "2fe1f0ca",
   "metadata": {},
   "source": [
    "# function"
   ]
  },
  {
   "cell_type": "raw",
   "id": "9e34ec48",
   "metadata": {},
   "source": [
    "# syntax:\n",
    "name(arguments,parameters)\n",
    " \n",
    "def -> is used to create a function\n",
    "\n",
    "return -> function to get a opration from urse input and give the value\n"
   ]
  },
  {
   "cell_type": "markdown",
   "id": "57a6a38d",
   "metadata": {},
   "source": [
    "# example1"
   ]
  },
  {
   "cell_type": "code",
   "execution_count": 11,
   "id": "80f757f1",
   "metadata": {},
   "outputs": [],
   "source": [
    "def intro():\n",
    "    print(\"my name is sri\")\n",
    "    "
   ]
  },
  {
   "cell_type": "code",
   "execution_count": 13,
   "id": "900eec9c",
   "metadata": {},
   "outputs": [
    {
     "name": "stdout",
     "output_type": "stream",
     "text": [
      "my name is sri\n"
     ]
    }
   ],
   "source": [
    "intro()"
   ]
  },
  {
   "cell_type": "markdown",
   "id": "04ddf668",
   "metadata": {},
   "source": [
    "# example2"
   ]
  },
  {
   "cell_type": "code",
   "execution_count": 8,
   "id": "ae7a1d30",
   "metadata": {},
   "outputs": [],
   "source": [
    "#function\n",
    "def survial(a,b):\n",
    "    return a+b\n",
    " "
   ]
  },
  {
   "cell_type": "code",
   "execution_count": 10,
   "id": "7cf2fbec",
   "metadata": {},
   "outputs": [
    {
     "name": "stdout",
     "output_type": "stream",
     "text": [
      "enter the number25\n",
      "enter the number75\n",
      "the sum is 100\n"
     ]
    }
   ],
   "source": [
    "#main program\n",
    "num1=int(input(\"enter the number\"))\n",
    "num2=int(input(\"enter the number\"))\n",
    "add=survial(num1,num2)\n",
    "print(f\"the sum is {add}\")\n",
    "\n"
   ]
  },
  {
   "cell_type": "markdown",
   "id": "63375ef7",
   "metadata": {},
   "source": [
    "# algorithm"
   ]
  },
  {
   "cell_type": "raw",
   "id": "a4c18e88",
   "metadata": {},
   "source": [
    "binary search"
   ]
  },
  {
   "cell_type": "code",
   "execution_count": 17,
   "id": "5469a84a",
   "metadata": {},
   "outputs": [],
   "source": [
    "data=[11,22,33,44,55,66,77,88,99]"
   ]
  },
  {
   "cell_type": "code",
   "execution_count": 19,
   "id": "cde456c1",
   "metadata": {},
   "outputs": [
    {
     "name": "stdout",
     "output_type": "stream",
     "text": [
      "[11, 22, 33, 44, 55, 66, 77, 88, 99]\n"
     ]
    }
   ],
   "source": [
    "data.sort()\n",
    "print(data)"
   ]
  },
  {
   "cell_type": "code",
   "execution_count": 20,
   "id": "ebf39dbe",
   "metadata": {},
   "outputs": [
    {
     "name": "stdout",
     "output_type": "stream",
     "text": [
      "enter the search element:22\n"
     ]
    }
   ],
   "source": [
    "elem=int(input(\"enter the search element:\"))"
   ]
  },
  {
   "cell_type": "code",
   "execution_count": 2,
   "id": "0bb2cad2",
   "metadata": {},
   "outputs": [
    {
     "ename": "IndentationError",
     "evalue": "unexpected indent (311594558.py, line 8)",
     "output_type": "error",
     "traceback": [
      "\u001b[1;36m  Cell \u001b[1;32mIn[2], line 8\u001b[1;36m\u001b[0m\n\u001b[1;33m    break\u001b[0m\n\u001b[1;37m    ^\u001b[0m\n\u001b[1;31mIndentationError\u001b[0m\u001b[1;31m:\u001b[0m unexpected indent\n"
     ]
    }
   ],
   "source": [
    "def binary_search(data,elem):\n",
    "    low=0\n",
    "    high=len(data)-1\n",
    "    while low <= high:\n",
    "        middle = (low + high)//2\n",
    "    if data [middle] == elem:\n",
    "        print(f\"the search element {elem} is present at index value {middle} in dataset\")\n",
    "         break\n",
    "    \n",
    "    elif data[middle] > elem:\n",
    "            high = middle - 1\n",
    "    else:\n",
    "            low = middle + 1\n",
    "            if data [middle] != elem:\n",
    "                print(f\"the search element {elem} is not present in dataset\")\n",
    "            return-1"
   ]
  },
  {
   "cell_type": "code",
   "execution_count": null,
   "id": "dbf3465a",
   "metadata": {},
   "outputs": [],
   "source": []
  },
  {
   "cell_type": "code",
   "execution_count": null,
   "id": "a2e84f50",
   "metadata": {},
   "outputs": [],
   "source": []
  },
  {
   "cell_type": "code",
   "execution_count": null,
   "id": "aa9dcef0",
   "metadata": {},
   "outputs": [],
   "source": []
  },
  {
   "cell_type": "code",
   "execution_count": null,
   "id": "28302264",
   "metadata": {},
   "outputs": [],
   "source": []
  }
 ],
 "metadata": {
  "kernelspec": {
   "display_name": "Python 3 (ipykernel)",
   "language": "python",
   "name": "python3"
  },
  "language_info": {
   "codemirror_mode": {
    "name": "ipython",
    "version": 3
   },
   "file_extension": ".py",
   "mimetype": "text/x-python",
   "name": "python",
   "nbconvert_exporter": "python",
   "pygments_lexer": "ipython3",
   "version": "3.9.17"
  }
 },
 "nbformat": 4,
 "nbformat_minor": 5
}
